{
 "cells": [
  {
   "cell_type": "markdown",
   "metadata": {},
   "source": [
    "# Test HW3 Setup\n",
    "\n",
    "__Note:__ In some of the steps below, your execution may show debug message in red. You can ignore these messages."
   ]
  },
  {
   "cell_type": "markdown",
   "metadata": {},
   "source": [
    "## Directory Check\n",
    "\n",
    "- Check that you are in the project directory. The result will print the location on the file system where the cloned project resides.\n"
   ]
  },
  {
   "cell_type": "code",
   "execution_count": 1,
   "metadata": {},
   "outputs": [
    {
     "name": "stdout",
     "output_type": "stream",
     "text": [
      "/Users/donaldferguson/Dropbox/Columbia/GoTBaseball/S2021_HW_3_4\n"
     ]
    }
   ],
   "source": [
    "import os\n",
    "\n",
    "print(os.getcwd())"
   ]
  },
  {
   "cell_type": "markdown",
   "metadata": {},
   "source": [
    "## Setup Python Environment\n",
    "\n",
    "- For testing in the Jupyter Notebook, we need to add the current directory to the Python Path."
   ]
  },
  {
   "cell_type": "code",
   "execution_count": 2,
   "metadata": {},
   "outputs": [],
   "source": [
    "import sys\n",
    "sys.path.append(os.getcwd())"
   ]
  },
  {
   "cell_type": "markdown",
   "metadata": {},
   "source": [
    "- Now make sure you can run the project's hello world \"service.\""
   ]
  },
  {
   "cell_type": "code",
   "execution_count": 4,
   "metadata": {},
   "outputs": [
    {
     "name": "stdout",
     "output_type": "stream",
     "text": [
      "Welcome to GoT plays baseball!\n"
     ]
    }
   ],
   "source": [
    "import Services.HelloWorldService.hello_world"
   ]
  },
  {
   "cell_type": "markdown",
   "metadata": {},
   "source": [
    "- You should see the import produce \"Welcome to GoT plays baseball!\""
   ]
  },
  {
   "cell_type": "markdown",
   "metadata": {},
   "source": [
    "## MySQL and MySQL Data\n",
    "\n",
    "- Now we will validate access to the MySQL Data."
   ]
  },
  {
   "cell_type": "code",
   "execution_count": 1,
   "metadata": {},
   "outputs": [],
   "source": [
    "import pymysql"
   ]
  },
  {
   "cell_type": "code",
   "execution_count": 2,
   "metadata": {},
   "outputs": [],
   "source": [
    "import unit_tests.rdb_data_table_test as dt"
   ]
  },
  {
   "cell_type": "code",
   "execution_count": 3,
   "metadata": {},
   "outputs": [
    {
     "name": "stderr",
     "output_type": "stream",
     "text": [
      "DEBUG:root:SELECT * FROM recent_people WHERE nameLast='Williams' AND birthCity='San Diego'\n"
     ]
    },
    {
     "name": "stdout",
     "output_type": "stream",
     "text": [
      "t1: rows = \n",
      " [\n",
      "  {\n",
      "    \"playerID\": \"willitr01\",\n",
      "    \"birthYear\": 1992,\n",
      "    \"birthMonth\": 4,\n",
      "    \"birthDay\": 25,\n",
      "    \"birthCountry\": \"USA\",\n",
      "    \"birthState\": \"CA\",\n",
      "    \"birthCity\": \"San Diego\",\n",
      "    \"deathYear\": null,\n",
      "    \"deathMonth\": null,\n",
      "    \"deathDay\": null,\n",
      "    \"deathCountry\": null,\n",
      "    \"deathState\": null,\n",
      "    \"deathCity\": null,\n",
      "    \"nameFirst\": \"Trevor\",\n",
      "    \"nameLast\": \"Williams\",\n",
      "    \"nameGiven\": \"Trevor Anthony\",\n",
      "    \"weight\": 230,\n",
      "    \"height\": 75,\n",
      "    \"bats\": \"R\",\n",
      "    \"throws\": \"R\",\n",
      "    \"debut\": \"2016-09-07\",\n",
      "    \"finalGame\": \"2019-09-29\",\n",
      "    \"retroID\": \"willt002\",\n",
      "    \"bbrefID\": \"willitr01\",\n",
      "    \"birth_date\": \"1992-04-25\",\n",
      "    \"debut_date\": \"2016-09-07\",\n",
      "    \"finalgame_date\": \"2019-09-29\",\n",
      "    \"death_date\": null\n",
      "  }\n",
      "]\n"
     ]
    }
   ],
   "source": [
    "dt.v1()"
   ]
  },
  {
   "cell_type": "markdown",
   "metadata": {},
   "source": [
    "- You should see the data for Ted Williams."
   ]
  },
  {
   "cell_type": "markdown",
   "metadata": {},
   "source": [
    "## Neo4j\n",
    "\n",
    "- We will now test Neo4j"
   ]
  },
  {
   "cell_type": "code",
   "execution_count": 9,
   "metadata": {},
   "outputs": [],
   "source": [
    "import py2neo\n",
    "import unit_tests.t_neo as tn"
   ]
  },
  {
   "cell_type": "code",
   "execution_count": 10,
   "metadata": {},
   "outputs": [
    {
     "name": "stderr",
     "output_type": "stream",
     "text": [
      "DEBUG:neobolt:[#0000]  C: <RESOLVE> ('localhost', 7687)\n",
      "DEBUG:neobolt:[#0000]  C: <OPEN> ('::1', 7687, 0, 0)\n",
      "DEBUG:neobolt:[#0000]  C: <ERROR> ConnectionRefusedError 61 'Connection refused'\n",
      "DEBUG:neobolt:[#0000]  C: <CLOSE> ('::1', 7687, 0, 0)\n",
      "DEBUG:neobolt:[#0000]  C: <OPEN> ('127.0.0.1', 7687)\n",
      "DEBUG:neobolt:[#C52D]  C: <MAGIC> 0x6060B017\n",
      "DEBUG:neobolt:[#C52D]  C: <HANDSHAKE> 0x00000003 0x00000002 0x00000001 0x00000000\n",
      "DEBUG:neobolt:[#C52D]  S: <HANDSHAKE> 0x00000003\n",
      "DEBUG:neobolt:[#C52D]  C: HELLO {'user_agent': 'neobolt/1.7.16 Python/3.7.4-final-0 (darwin)', 'scheme': 'basic', 'principal': 'neo4j', 'credentials': '*******'}\n",
      "DEBUG:neobolt:[#C52D]  S: SUCCESS {'server': 'Neo4j/4.2.1', 'connection_id': 'bolt-11'}\n",
      "DEBUG:neobolt:[#C52D]  C: RUN 'UNWIND $x AS data CREATE (_:Person) SET _ = data RETURN id(_)' {'x': [{'name': 'Fred Astaire', 'nconst': 'nm0000001', 'firstName': 'Fred', 'lastName': 'Astaire'}]} {}\n",
      "DEBUG:neobolt:[#C52D]  C: PULL_ALL\n",
      "DEBUG:neobolt:[#C52D]  S: SUCCESS {'t_first': 125, 'fields': ['id(_)']}\n",
      "DEBUG:neobolt:[#C52D]  S: RECORD * 1\n",
      "DEBUG:neobolt:[#C52D]  S: SUCCESS {'bookmark': 'FB:kcwQwlb8Q02RQEWONndFbYychieQ', 'stats': {'labels-added': 1, 'nodes-created': 1, 'properties-set': 4}, 'type': 'rw', 't_last': 238}\n"
     ]
    },
    {
     "name": "stdout",
     "output_type": "stream",
     "text": [
      "t3 -- res =  (_175:Person {firstName: 'Fred', lastName: 'Astaire', name: 'Fred Astaire', nconst: 'nm0000001'})\n"
     ]
    }
   ],
   "source": [
    "tn.t3()"
   ]
  },
  {
   "cell_type": "markdown",
   "metadata": {},
   "source": [
    "## Start App Server (Programming Track Only)\n"
   ]
  },
  {
   "cell_type": "markdown",
   "metadata": {},
   "source": [
    "- Open the project that you cloned in PyCharm and create an interpreter using preferences.\n",
    "\n",
    "\n",
    "- Open a terminal window in PyCharm and enter the command ```pip install -r requirements.txt```\n",
    "\n",
    "\n",
    "- In PyCharm, run the programm ```app.py``` You should see something like:\n",
    "\n",
    "```\n",
    " * Serving Flask app \"app\" (lazy loading)\n",
    " * Environment: production\n",
    "   WARNING: This is a development server. Do not use it in a production deployment.\n",
    "   Use a production WSGI server instead.\n",
    " * Debug mode: off\n",
    " * Running on http://0.0.0.0:5001/ (Press CTRL+C to quit)\n",
    "\n",
    "```\n",
    "\n",
    "- Run the following test."
   ]
  },
  {
   "cell_type": "code",
   "execution_count": 24,
   "metadata": {},
   "outputs": [],
   "source": [
    "import requests\n",
    "import json"
   ]
  },
  {
   "cell_type": "code",
   "execution_count": 27,
   "metadata": {},
   "outputs": [
    {
     "name": "stderr",
     "output_type": "stream",
     "text": [
      "DEBUG:urllib3.connectionpool:Starting new HTTP connection (1): 0.0.0.0:5001\n",
      "DEBUG:urllib3.connectionpool:http://0.0.0.0:5001 \"GET /api/demo/cat?dog=Nope HTTP/1.1\" 200 423\n"
     ]
    },
    {
     "name": "stdout",
     "output_type": "stream",
     "text": [
      "{\n",
      "  \"/demo received the following inputs\": {\n",
      "    \"path\": \"/api/demo/cat\",\n",
      "    \"path_parameters\": {\n",
      "      \"parameter1\": \"cat\"\n",
      "    },\n",
      "    \"args\": {\n",
      "      \"dog\": \"Nope\"\n",
      "    },\n",
      "    \"headers\": {\n",
      "      \"Host\": \"0.0.0.0:5001\",\n",
      "      \"User-Agent\": \"python-requests/2.25.1\",\n",
      "      \"Accept-Encoding\": \"gzip, deflate\",\n",
      "      \"Accept\": \"*/*\",\n",
      "      \"Connection\": \"keep-alive\"\n",
      "    },\n",
      "    \"limit\": null,\n",
      "    \"offset\": null,\n",
      "    \"method\": \"GET\",\n",
      "    \"host_url\": \"http://0.0.0.0:5001/\",\n",
      "    \"order_by\": null,\n",
      "    \"fields\": null,\n",
      "    \"data\": null\n",
      "  }\n",
      "}\n"
     ]
    }
   ],
   "source": [
    "res = requests.get(\n",
    "    \"http://0.0.0.0:5001/api/demo/cat?dog=Nope\"\n",
    "    )\n",
    "print(json.dumps(res.json(), indent=2))"
   ]
  },
  {
   "cell_type": "code",
   "execution_count": null,
   "metadata": {},
   "outputs": [],
   "source": []
  }
 ],
 "metadata": {
  "kernelspec": {
   "display_name": "Python 3",
   "language": "python",
   "name": "python3"
  },
  "language_info": {
   "codemirror_mode": {
    "name": "ipython",
    "version": 3
   },
   "file_extension": ".py",
   "mimetype": "text/x-python",
   "name": "python",
   "nbconvert_exporter": "python",
   "pygments_lexer": "ipython3",
   "version": "3.7.4"
  }
 },
 "nbformat": 4,
 "nbformat_minor": 2
}
